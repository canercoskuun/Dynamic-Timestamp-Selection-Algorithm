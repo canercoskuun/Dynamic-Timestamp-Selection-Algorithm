{
  "nbformat": 4,
  "nbformat_minor": 0,
  "metadata": {
    "colab": {
      "provenance": []
    },
    "kernelspec": {
      "name": "python3",
      "display_name": "Python 3"
    },
    "language_info": {
      "name": "python"
    }
  },
  "cells": [
    {
      "cell_type": "code",
      "execution_count": 1,
      "metadata": {
        "id": "iEVeIMT1T9wH"
      },
      "outputs": [],
      "source": [
        "\"\"\"\n",
        "Bu modül, PySpark kullanarak zaman damgası (timestamp) işlemleri yapmak için gerekli SparkSession oluşturulmasını\n",
        "ve tarih/zaman fonksiyonlarının içe aktarımını içerir.\n",
        "\"\"\"\n",
        "from pyspark.sql import SparkSession\n",
        "from pyspark.sql.functions import col, to_timestamp, when, year, current_timestamp, expr,coalesce,month,day,date_format,lit\n",
        "from pyspark.sql.types import TimestampType,StructType,StructField"
      ]
    },
    {
      "cell_type": "code",
      "source": [
        "\"\"\"\n",
        "SparkSession oluşturulur ve zaman dönüşüm politikasında uyumluluk modu ayarlanır.\n",
        "\"\"\"\n",
        "spark = SparkSession.builder.appName(\"FinalTimestampComputation\").getOrCreate()\n",
        "spark.conf.set(\"spark.sql.legacy.timeParserPolicy\", \"LEGACY\")"
      ],
      "metadata": {
        "id": "EC_4A6rVj2GK"
      },
      "execution_count": 2,
      "outputs": []
    },
    {
      "cell_type": "code",
      "source": [
        "\"\"\"\n",
        "Dataframe için manuel şema (schema) tanımı yapılır.\n",
        "\"\"\"\n",
        "\n",
        "\"\"\"\n",
        "schema = StructType([\n",
        "    StructField(\"ts\",TimestampType(),True),\n",
        "    StructField(\"kafka_ts\",TimestampType(),True),\n",
        "    StructField(\"signal_timestamp\",TimestampType(),True),\n",
        "    StructField(\"signal_oem_timestamp\",TimestampType(),True),\n",
        "    StructField(\"final_ts\",TimestampType(),True),\n",
        "])\n",
        "\n",
        "\"\"\""
      ],
      "metadata": {
        "colab": {
          "base_uri": "https://localhost:8080/",
          "height": 53
        },
        "id": "88eDESCavWIL",
        "outputId": "9682a800-9d08-4c4a-d38f-2af5d386f194"
      },
      "execution_count": 3,
      "outputs": [
        {
          "output_type": "execute_result",
          "data": {
            "text/plain": [
              "'\\nschema = StructType([\\n    StructField(\"ts\",TimestampType(),True),\\n    StructField(\"kafka_ts\",TimestampType(),True),\\n    StructField(\"signal_timestamp\",TimestampType(),True),\\n    StructField(\"signal_oem_timestamp\",TimestampType(),True),\\n    StructField(\"final_ts\",TimestampType(),True),\\n])\\n\\n'"
            ],
            "application/vnd.google.colaboratory.intrinsic+json": {
              "type": "string"
            }
          },
          "metadata": {},
          "execution_count": 3
        }
      ]
    },
    {
      "cell_type": "code",
      "source": [
        "\"\"\"\n",
        "CSV dosyası, Spark DataFrame olarak okunur ve manuel olarak tanımlanmış şema kullanılır.\n",
        "\"\"\"\n",
        "df = spark.read.csv(\"dummy_data.csv\",header=True,sep=\";\")"
      ],
      "metadata": {
        "id": "VhqAnZTjj_KI"
      },
      "execution_count": 4,
      "outputs": []
    },
    {
      "cell_type": "code",
      "source": [
        "df.show(truncate=False)"
      ],
      "metadata": {
        "colab": {
          "base_uri": "https://localhost:8080/"
        },
        "id": "MMxd2ADU787H",
        "outputId": "999fc5df-fe15-49b1-d547-85e3488b4a98"
      },
      "execution_count": 5,
      "outputs": [
        {
          "output_type": "stream",
          "name": "stdout",
          "text": [
            "+------------------------+-----------------------+-----------------------+-----------------------+--------+\n",
            "|ts                      |kafka_ts               |signal_timestamp       |signal_oem_timestamp   |final_ts|\n",
            "+------------------------+-----------------------+-----------------------+-----------------------+--------+\n",
            "|2025-02-12T09:28:32.611Z|12.02.2025 12:28       |2025-02-12 12:28:32.000|2025-02-12 12:28:32.000|NULL    |\n",
            "|2025-02-12T09:57:35.677Z|12.02.2025 12:57       |2025-02-12 12:57:35.000|2025-02-12 12:57:35.000|NULL    |\n",
            "|2025-02-06T09:24:06.421Z|6.02.2025 12:24        |2025-02-06 12:24:03.000|2025-02-06 12:24:03.000|NULL    |\n",
            "|2025-02-18T11:14:23.573Z|18.02.2025 14:14       |2025-02-18 14:14:21.000|2025-02-18 14:14:21.000|NULL    |\n",
            "|2025-02-13T11:46:41.500Z|13.02.2025 14:46       |2025-02-13 14:46:40.000|2025-02-13 14:46:40.000|NULL    |\n",
            "|2025-02-20T10:51:39.210Z|20.02.2025 13:51       |2025-02-20 13:51:38.000|2025-02-20 13:51:38.000|NULL    |\n",
            "|2025-02-12T04:35:48.127Z|12.02.2025 07:35       |2025-02-12 07:35:47.000|2025-02-12 07:35:47.000|NULL    |\n",
            "|2025-02-13T08:45:01.209Z|13.02.2025 11:45       |2025-02-13 11:45:00.000|2025-02-13 11:45:00.000|NULL    |\n",
            "|2025-02-11T12:39:57.759Z|11.02.2025 15:39       |11.02.2025 15:39       |2025-02-11 15:39:58.000|NULL    |\n",
            "|2025-02-23T02:07:06.367Z|23.02.2025 05:07       |2025-02-23 05:07:05.000|2025-02-23 05:07:05.000|NULL    |\n",
            "|2025-02-19T18:24:28.911Z|19.02.2025 21:24       |2025-02-19 21:24:28.000|2025-02-19 21:24:28.000|NULL    |\n",
            "|2025-02-19T05:10:04.066Z|19.02.2025 08:10       |2025-02-19 08:10:03.000|2025-02-19 08:10:03.000|NULL    |\n",
            "|2025-02-04T19:03:03.308Z|4.02.2025 22:03        |2025-02-04 22:03:02.000|2025-02-04 22:03:02.000|NULL    |\n",
            "|2025-02-13T11:06:23.088Z|13.02.2025 14:06       |2025-02-13 14:06:22.000|2025-02-13 14:06:22.000|NULL    |\n",
            "|2025-02-25T12:10:07.850Z|2025-02-25 15:10:08.037|25.02.2025 15:10       |2025-02-25 15:10:08.000|NULL    |\n",
            "|2025-02-09T18:57:32.491Z|9.02.2025 21:57        |2025-02-09 21:57:32.000|2025-02-09 21:57:32.000|NULL    |\n",
            "|2025-02-08T09:54:24.603Z|2025-02-08 12:54:25.024|2025-02-08 12:54:23.000|2025-02-08 12:54:23.000|NULL    |\n",
            "|2025-02-28T16:02:47.035Z|2025-02-28 19:02:48.062|2025-02-28 19:02:46.000|2025-02-28 19:02:46.000|NULL    |\n",
            "|2025-02-28T15:35:00.687Z|28.02.2025 18:35       |2025-02-28 18:34:59.000|2025-02-28 18:34:59.000|NULL    |\n",
            "|2025-02-22T12:41:03.494Z|2025-02-22 15:41:04.019|2025-02-22 15:40:59.000|2025-02-22 15:40:59.000|NULL    |\n",
            "+------------------------+-----------------------+-----------------------+-----------------------+--------+\n",
            "only showing top 20 rows\n",
            "\n"
          ]
        }
      ]
    },
    {
      "cell_type": "code",
      "source": [
        "# Kısayol atamaları\n",
        "ingestion = col(\"ts\")\n",
        "internalRTC = col(\"signal_timestamp\")\n",
        "modemUTC = col(\"signal_oem_timestamp\")"
      ],
      "metadata": {
        "id": "AUoAkbyMTS53"
      },
      "execution_count": 6,
      "outputs": []
    },
    {
      "cell_type": "code",
      "source": [
        "\"\"\"\n",
        "Timestamp alanları üzerinde çeşitli kontrol koşulları tanımlanır.\n",
        "\"\"\"\n",
        "cond_both_null = internalRTC.isNull() & modemUTC.isNull()\n",
        "cond_internal_null = internalRTC.isNull()\n",
        "cond_modem_null = modemUTC.isNull()\n",
        "cond_has_millis = internalRTC.cast(\"string\").contains(\".\")\n",
        "\n",
        "cols=[\"ts\",\"signal_timestamp\",\"signal_oem_timestamp\",\"final_ts\"]\n",
        "\n",
        "cond_final_ts_is_null = col(\"final_ts\").isNull()\n",
        "cond_invalid_years = year(col(\"final_ts\")).isin([2000, 2001, 2002])\n",
        "\n",
        "cond_weird_dates = (\n",
        "        ((year(col(\"final_ts\")) == 2021) & (month(col(\"final_ts\")) == 3)) |\n",
        "        ((year(col(\"final_ts\")) == 1970) & (month(col(\"final_ts\")) == 1)) |\n",
        "        ((year(col(\"final_ts\")) == 2000) & (month(col(\"final_ts\")) == 1)) |\n",
        "        ((year(col(\"final_ts\")) == 2018) & (month(col(\"final_ts\")) == 1) & (day(col(\"final_ts\")) == 1)) |\n",
        "        ((col(\"final_ts\") >= to_timestamp(lit(\"2014-01-01\"))) & (col(\"final_ts\") <= to_timestamp(lit(\"2014-08-01\"))))\n",
        "    )\n",
        "cond_future_range = (\n",
        "        (col(\"final_ts\") > current_timestamp()) &\n",
        "        (col(\"final_ts\") < expr(\"current_timestamp() + interval 1 day\"))\n",
        "    )\n",
        "cond_recent_past = (\n",
        "        (col(\"final_ts\") < current_timestamp()) &\n",
        "        (col(\"final_ts\") > expr(\"current_timestamp() - interval 28 days\"))\n",
        "    )"
      ],
      "metadata": {
        "id": "yfZAZhwXy_YL"
      },
      "execution_count": 7,
      "outputs": []
    },
    {
      "cell_type": "code",
      "source": [
        "# Koşula göre filtrele\n",
        "def show_table(condition,cols,title):\n",
        "    \"\"\"\n",
        "    Belirli bir filtreleme koşuluna göre DataFrame'den veri seçip başlıkla birlikte ekrana yazdırır.\n",
        "\n",
        "    Parametreler:\n",
        "    -------------\n",
        "    condition : Column veya bool expression\n",
        "        DataFrame'e uygulanacak filtreleme koşulu.\n",
        "\n",
        "    cols : list of str\n",
        "        Gösterilecek sütunların isimlerini içeren liste.\n",
        "\n",
        "    title : str\n",
        "        Gösterim öncesinde konsola yazılacak başlık metni.Çıktıyı anlamlandırmak için kullanılır.\n",
        "    \"\"\"\n",
        "    print(title)\n",
        "    df.filter(condition).select(cols).show(10,truncate=False)"
      ],
      "metadata": {
        "id": "zn1-WqPdPWM5"
      },
      "execution_count": 8,
      "outputs": []
    },
    {
      "cell_type": "code",
      "source": [
        "# Farklı timestamp formatlarını dönüştür\n",
        "def convert_timestamp(column):\n",
        "    \"\"\"\n",
        "    Birden fazla olası tarih/zaman formatını kontrol ederek string ifadeleri timestamp veri tipine dönüştürür.\n",
        "    \"\"\"\n",
        "    return coalesce(\n",
        "        to_timestamp(column, \"yyyy-MM-dd HH:mm:ss.SSS\"),\n",
        "        to_timestamp(column, \"dd.MM.yyyy HH:mm:ss\"),\n",
        "        to_timestamp(column, \"dd.MM.yyyy HH:mm\"),\n",
        "        to_timestamp(column)\n",
        "    )"
      ],
      "metadata": {
        "id": "B6fwrYXwkJRH"
      },
      "execution_count": 9,
      "outputs": []
    },
    {
      "cell_type": "code",
      "source": [
        "\"\"\"\n",
        "DataFrame'deki timestamp içeren sütunlar, çoklu format destekleyen `convert_timestamp()` fonksiyonu ile\n",
        "standart `TimestampType` biçimine dönüştürülür.\n",
        "\"\"\"\n",
        "df = df.withColumn(\"ts\", convert_timestamp(col(\"ts\"))) \\\n",
        "       .withColumn(\"signal_timestamp\", convert_timestamp(col(\"signal_timestamp\"))) \\\n",
        "       .withColumn(\"signal_oem_timestamp\", convert_timestamp(col(\"signal_oem_timestamp\")))"
      ],
      "metadata": {
        "id": "CSMloPOfyWEW"
      },
      "execution_count": 10,
      "outputs": []
    },
    {
      "cell_type": "code",
      "source": [
        "# Conditionlara göre filtreleme ve görüntüleme\n",
        "show_table(cond_both_null,cols,\"internalRTC and modemUTC is null:\")"
      ],
      "metadata": {
        "colab": {
          "base_uri": "https://localhost:8080/"
        },
        "id": "Igz6Q4mnkUek",
        "outputId": "d126303a-edd5-4712-dd3e-51528fb15341"
      },
      "execution_count": 11,
      "outputs": [
        {
          "output_type": "stream",
          "name": "stdout",
          "text": [
            "internalRTC and modemUTC is null:\n",
            "+---+----------------+--------------------+--------+\n",
            "|ts |signal_timestamp|signal_oem_timestamp|final_ts|\n",
            "+---+----------------+--------------------+--------+\n",
            "+---+----------------+--------------------+--------+\n",
            "\n"
          ]
        }
      ]
    },
    {
      "cell_type": "code",
      "source": [
        "show_table(cond_internal_null,cols,\"internalRTC is null:\")"
      ],
      "metadata": {
        "colab": {
          "base_uri": "https://localhost:8080/"
        },
        "id": "k1Gq2K0FyNrU",
        "outputId": "7e30a3b0-8244-4cee-f55b-149bf1360e94"
      },
      "execution_count": 12,
      "outputs": [
        {
          "output_type": "stream",
          "name": "stdout",
          "text": [
            "internalRTC is null:\n",
            "+---+----------------+--------------------+--------+\n",
            "|ts |signal_timestamp|signal_oem_timestamp|final_ts|\n",
            "+---+----------------+--------------------+--------+\n",
            "+---+----------------+--------------------+--------+\n",
            "\n"
          ]
        }
      ]
    },
    {
      "cell_type": "code",
      "source": [
        "show_table(cond_modem_null,cols,\"modemUTC is null\")"
      ],
      "metadata": {
        "colab": {
          "base_uri": "https://localhost:8080/"
        },
        "id": "FHb4omLWyOgd",
        "outputId": "9e87a100-40b3-4a4a-d392-a12a9f9baa6b"
      },
      "execution_count": 13,
      "outputs": [
        {
          "output_type": "stream",
          "name": "stdout",
          "text": [
            "modemUTC is null\n",
            "+---+----------------+--------------------+--------+\n",
            "|ts |signal_timestamp|signal_oem_timestamp|final_ts|\n",
            "+---+----------------+--------------------+--------+\n",
            "+---+----------------+--------------------+--------+\n",
            "\n"
          ]
        }
      ]
    },
    {
      "cell_type": "code",
      "source": [
        "show_table((~cond_both_null) & cond_has_millis,cols,\"both  are not null and internalRTC has milisecond\")"
      ],
      "metadata": {
        "colab": {
          "base_uri": "https://localhost:8080/"
        },
        "id": "eC3UyVAuyOn9",
        "outputId": "b5039349-19dc-4f77-d8de-89ba7aefbcb9"
      },
      "execution_count": 14,
      "outputs": [
        {
          "output_type": "stream",
          "name": "stdout",
          "text": [
            "both  are not null and internalRTC has milisecond\n",
            "+-----------------------+-----------------------+--------------------+--------+\n",
            "|ts                     |signal_timestamp       |signal_oem_timestamp|final_ts|\n",
            "+-----------------------+-----------------------+--------------------+--------+\n",
            "|2025-02-26 14:58:39.54 |2025-02-26 17:58:38.055|2025-02-26 17:58:39 |NULL    |\n",
            "|2025-02-04 05:48:20.019|2025-02-04 08:48:20.042|2025-02-04 08:48:18 |NULL    |\n",
            "|2025-02-25 15:18:54.229|2025-02-25 18:18:53.061|2025-02-25 18:18:53 |NULL    |\n",
            "|2025-02-26 23:03:34.782|2025-02-26 21:48:55.091|2025-02-26 21:29:15 |NULL    |\n",
            "|2025-02-27 18:39:02.066|2025-02-27 21:39:02.099|2025-02-27 21:39:01 |NULL    |\n",
            "|2025-02-04 14:14:26.446|2025-02-04 17:14:22.057|2025-02-04 17:14:26 |NULL    |\n",
            "|2025-02-26 09:42:53.002|2025-02-26 12:42:53.02 |2025-02-26 12:42:51 |NULL    |\n",
            "|2025-02-26 06:16:01.567|2025-02-26 09:15:57.076|2025-02-26 09:16:01 |NULL    |\n",
            "|2025-02-04 07:02:10.003|2025-02-04 10:02:10.021|2021-03-23 10:49:37 |NULL    |\n",
            "|2025-02-18 06:17:43.996|2025-02-18 09:17:44.024|2021-03-23 11:23:35 |NULL    |\n",
            "+-----------------------+-----------------------+--------------------+--------+\n",
            "only showing top 10 rows\n",
            "\n"
          ]
        }
      ]
    },
    {
      "cell_type": "code",
      "source": [
        "show_table((~cond_both_null) & (~cond_has_millis),cols,\"both are not null and internalRTC doesn't have millisecond\")"
      ],
      "metadata": {
        "colab": {
          "base_uri": "https://localhost:8080/"
        },
        "id": "13o5oTmiySWz",
        "outputId": "e3cbf0af-5fbb-4e55-eda5-d1df067bf9c5"
      },
      "execution_count": 15,
      "outputs": [
        {
          "output_type": "stream",
          "name": "stdout",
          "text": [
            "both are not null and internalRTC doesn't have millisecond\n",
            "+-----------------------+-------------------+--------------------+--------+\n",
            "|ts                     |signal_timestamp   |signal_oem_timestamp|final_ts|\n",
            "+-----------------------+-------------------+--------------------+--------+\n",
            "|2025-02-12 09:28:32.611|2025-02-12 12:28:32|2025-02-12 12:28:32 |NULL    |\n",
            "|2025-02-12 09:57:35.677|2025-02-12 12:57:35|2025-02-12 12:57:35 |NULL    |\n",
            "|2025-02-06 09:24:06.421|2025-02-06 12:24:03|2025-02-06 12:24:03 |NULL    |\n",
            "|2025-02-18 11:14:23.573|2025-02-18 14:14:21|2025-02-18 14:14:21 |NULL    |\n",
            "|2025-02-13 11:46:41.5  |2025-02-13 14:46:40|2025-02-13 14:46:40 |NULL    |\n",
            "|2025-02-20 10:51:39.21 |2025-02-20 13:51:38|2025-02-20 13:51:38 |NULL    |\n",
            "|2025-02-12 04:35:48.127|2025-02-12 07:35:47|2025-02-12 07:35:47 |NULL    |\n",
            "|2025-02-13 08:45:01.209|2025-02-13 11:45:00|2025-02-13 11:45:00 |NULL    |\n",
            "|2025-02-11 12:39:57.759|2025-02-11 15:39:00|2025-02-11 15:39:58 |NULL    |\n",
            "|2025-02-23 02:07:06.367|2025-02-23 05:07:05|2025-02-23 05:07:05 |NULL    |\n",
            "+-----------------------+-------------------+--------------------+--------+\n",
            "only showing top 10 rows\n",
            "\n"
          ]
        }
      ]
    },
    {
      "cell_type": "code",
      "source": [
        "\"\"\"\n",
        "`final_ts` sütununa, `internalRTC` ve `modemUTC` zaman damgalarından en uygun olanı seçilir.\n",
        "\"\"\"\n",
        "df = df.withColumn(\"final_ts\",\n",
        "    when(cond_both_null, None)\n",
        "    .when(cond_internal_null, modemUTC)\n",
        "    .when(cond_modem_null, internalRTC)\n",
        "    .when(cond_has_millis, internalRTC)\n",
        "    .otherwise(modemUTC)\n",
        ")"
      ],
      "metadata": {
        "id": "p9pyAPL4ka5o"
      },
      "execution_count": 16,
      "outputs": []
    },
    {
      "cell_type": "code",
      "source": [
        "# message_time fonksiyonu uygulanmadan önceki timestamp filtrelemeleri ve görüntülemeleri\n",
        "show_table(cond_invalid_years,cols,\"Timestamp year 2000,2001,2002\")"
      ],
      "metadata": {
        "colab": {
          "base_uri": "https://localhost:8080/"
        },
        "id": "I-k5Jrj4keaP",
        "outputId": "7d309ce3-ca79-4fe2-889d-235e6fd23442"
      },
      "execution_count": 17,
      "outputs": [
        {
          "output_type": "stream",
          "name": "stdout",
          "text": [
            "Timestamp year 2000,2001,2002\n",
            "+-----------------------+-------------------+--------------------+-------------------+\n",
            "|ts                     |signal_timestamp   |signal_oem_timestamp|final_ts           |\n",
            "+-----------------------+-------------------+--------------------+-------------------+\n",
            "|2025-02-01 12:08:57.477|2025-02-01 15:08:00|2000-01-01 14:18:11 |2000-01-01 14:18:11|\n",
            "|2025-02-17 10:41:14.86 |2025-02-17 13:41:00|2000-05-10 16:42:21 |2000-05-10 16:42:21|\n",
            "|2025-02-11 12:50:41.529|2025-02-11 15:50:00|2000-01-01 02:04:24 |2000-01-01 02:04:24|\n",
            "|2025-02-27 10:28:32.555|2025-02-27 13:28:00|2000-01-02 09:33:16 |2000-01-02 09:33:16|\n",
            "|2025-02-14 08:18:29.394|2025-02-14 11:18:00|2000-01-01 14:20:31 |2000-01-01 14:20:31|\n",
            "+-----------------------+-------------------+--------------------+-------------------+\n",
            "\n"
          ]
        }
      ]
    },
    {
      "cell_type": "code",
      "source": [
        "show_table(cond_weird_dates,cols,\"Timestamp March 2021,January 1970, January 2000,1/1/2018,[1/1/2014-1/8/2014]\")"
      ],
      "metadata": {
        "colab": {
          "base_uri": "https://localhost:8080/"
        },
        "id": "BUUixRexx2Rk",
        "outputId": "40b308ab-7783-4240-bdda-0a1fc073c10e"
      },
      "execution_count": 18,
      "outputs": [
        {
          "output_type": "stream",
          "name": "stdout",
          "text": [
            "Timestamp March 2021,January 1970, January 2000,1/1/2018,[1/1/2014-1/8/2014]\n",
            "+-----------------------+-------------------+--------------------+-------------------+\n",
            "|ts                     |signal_timestamp   |signal_oem_timestamp|final_ts           |\n",
            "+-----------------------+-------------------+--------------------+-------------------+\n",
            "|2025-02-28 14:51:35.544|2025-02-28 17:51:00|2021-03-23 10:50:21 |2021-03-23 10:50:21|\n",
            "|2025-02-01 12:08:57.477|2025-02-01 15:08:00|2000-01-01 14:18:11 |2000-01-01 14:18:11|\n",
            "|2025-02-17 13:53:19.69 |2025-02-17 16:53:00|2021-03-23 13:02:54 |2021-03-23 13:02:54|\n",
            "|2025-02-11 12:50:41.529|2025-02-11 15:50:00|2000-01-01 02:04:24 |2000-01-01 02:04:24|\n",
            "|2025-02-05 05:23:33.944|2025-02-05 08:23:00|2021-03-23 10:53:47 |2021-03-23 10:53:47|\n",
            "|2025-02-27 10:28:32.555|2025-02-27 13:28:00|2000-01-02 09:33:16 |2000-01-02 09:33:16|\n",
            "|2025-02-14 08:18:29.394|2025-02-14 11:18:00|2000-01-01 14:20:31 |2000-01-01 14:20:31|\n",
            "+-----------------------+-------------------+--------------------+-------------------+\n",
            "\n"
          ]
        }
      ]
    },
    {
      "cell_type": "code",
      "source": [
        "show_table(cond_future_range,cols,\"Timestamp in the future but <24h in the future\")"
      ],
      "metadata": {
        "colab": {
          "base_uri": "https://localhost:8080/"
        },
        "id": "bBTIx6d2x2iN",
        "outputId": "6a42c548-c111-4377-e40b-717374a3aece"
      },
      "execution_count": 19,
      "outputs": [
        {
          "output_type": "stream",
          "name": "stdout",
          "text": [
            "Timestamp in the future but <24h in the future\n",
            "+---+----------------+--------------------+--------+\n",
            "|ts |signal_timestamp|signal_oem_timestamp|final_ts|\n",
            "+---+----------------+--------------------+--------+\n",
            "+---+----------------+--------------------+--------+\n",
            "\n"
          ]
        }
      ]
    },
    {
      "cell_type": "code",
      "source": [
        "show_table(cond_recent_past,cols,\"Timestamp in the past but < 4 weeks in the past\")"
      ],
      "metadata": {
        "colab": {
          "base_uri": "https://localhost:8080/"
        },
        "id": "en4tH3Erx2wg",
        "outputId": "ae4359de-4208-4fba-dce0-422994c0faff"
      },
      "execution_count": 20,
      "outputs": [
        {
          "output_type": "stream",
          "name": "stdout",
          "text": [
            "Timestamp in the past but < 4 weeks in the past\n",
            "+---+----------------+--------------------+--------+\n",
            "|ts |signal_timestamp|signal_oem_timestamp|final_ts|\n",
            "+---+----------------+--------------------+--------+\n",
            "+---+----------------+--------------------+--------+\n",
            "\n"
          ]
        }
      ]
    },
    {
      "cell_type": "code",
      "source": [
        "#MESSAGE_TIME\n",
        "def message_time(df):\n",
        "    \"\"\"\n",
        "  ` final_ts` sütununun güvenilirliğini kontrol eder ve belirli tarihsel anormalliklere göre düzeltir.\n",
        "    \"\"\"\n",
        "    return df.withColumn(\n",
        "        \"final_ts\",\n",
        "        when(cond_final_ts_is_null, None)\n",
        "        .when(cond_invalid_years, ingestion)\n",
        "        .when(cond_weird_dates, ingestion)\n",
        "        .when(cond_future_range, ingestion)\n",
        "        .when(cond_recent_past, col(\"final_ts\"))\n",
        "        .otherwise(None)\n",
        "    )"
      ],
      "metadata": {
        "id": "UgGaDMeJkjdf"
      },
      "execution_count": 21,
      "outputs": []
    },
    {
      "cell_type": "code",
      "source": [
        "\"\"\"\n",
        "Zaman doğrulama ve düzeltme işlemleri `message_time` fonksiyonu aracılığıyla uygulanır.\n",
        "\"\"\"\n",
        "df = message_time(df)"
      ],
      "metadata": {
        "id": "MLBssqIqz-wi"
      },
      "execution_count": 22,
      "outputs": []
    },
    {
      "cell_type": "code",
      "source": [
        "show_table(col(\"ts\") == col(\"final_ts\"),cols,\"Message Time=Ingtestion Time'ları gözlemleyelim!\")"
      ],
      "metadata": {
        "colab": {
          "base_uri": "https://localhost:8080/"
        },
        "id": "jt0dkeIpkrDO",
        "outputId": "d9dfc4cd-6406-4879-c2be-7f331810c234"
      },
      "execution_count": 23,
      "outputs": [
        {
          "output_type": "stream",
          "name": "stdout",
          "text": [
            "Message Time=Ingtestion Time'ları gözlemleyelim!\n",
            "+-----------------------+-------------------+--------------------+-----------------------+\n",
            "|ts                     |signal_timestamp   |signal_oem_timestamp|final_ts               |\n",
            "+-----------------------+-------------------+--------------------+-----------------------+\n",
            "|2025-02-28 14:51:35.544|2025-02-28 17:51:00|2021-03-23 10:50:21 |2025-02-28 14:51:35.544|\n",
            "|2025-02-01 12:08:57.477|2025-02-01 15:08:00|2000-01-01 14:18:11 |2025-02-01 12:08:57.477|\n",
            "|2025-02-17 10:41:14.86 |2025-02-17 13:41:00|2000-05-10 16:42:21 |2025-02-17 10:41:14.86 |\n",
            "|2025-02-17 13:53:19.69 |2025-02-17 16:53:00|2021-03-23 13:02:54 |2025-02-17 13:53:19.69 |\n",
            "|2025-02-11 12:50:41.529|2025-02-11 15:50:00|2000-01-01 02:04:24 |2025-02-11 12:50:41.529|\n",
            "|2025-02-05 05:23:33.944|2025-02-05 08:23:00|2021-03-23 10:53:47 |2025-02-05 05:23:33.944|\n",
            "|2025-02-27 10:28:32.555|2025-02-27 13:28:00|2000-01-02 09:33:16 |2025-02-27 10:28:32.555|\n",
            "|2025-02-14 08:18:29.394|2025-02-14 11:18:00|2000-01-01 14:20:31 |2025-02-14 08:18:29.394|\n",
            "+-----------------------+-------------------+--------------------+-----------------------+\n",
            "\n"
          ]
        }
      ]
    },
    {
      "cell_type": "code",
      "source": [
        "show_table(cond_recent_past,cols,\"Timestamp in the past but < 4 weeks in the past\")"
      ],
      "metadata": {
        "colab": {
          "base_uri": "https://localhost:8080/"
        },
        "id": "O6rHvg_4xhQ3",
        "outputId": "c2dffe75-5d60-441a-d0ef-cc83d909fa2f"
      },
      "execution_count": 24,
      "outputs": [
        {
          "output_type": "stream",
          "name": "stdout",
          "text": [
            "Timestamp in the past but < 4 weeks in the past\n",
            "+---+----------------+--------------------+--------+\n",
            "|ts |signal_timestamp|signal_oem_timestamp|final_ts|\n",
            "+---+----------------+--------------------+--------+\n",
            "+---+----------------+--------------------+--------+\n",
            "\n"
          ]
        }
      ]
    },
    {
      "cell_type": "code",
      "source": [
        "show_table(~cond_final_ts_is_null,cols,\"final_ts null olmayanları listeleyelim!\")"
      ],
      "metadata": {
        "colab": {
          "base_uri": "https://localhost:8080/"
        },
        "id": "_SW6Lss-kroo",
        "outputId": "8ab1720a-e74f-41a1-b387-190a10aba2a5"
      },
      "execution_count": 25,
      "outputs": [
        {
          "output_type": "stream",
          "name": "stdout",
          "text": [
            "final_ts null olmayanları listeleyelim!\n",
            "+-----------------------+-------------------+--------------------+-----------------------+\n",
            "|ts                     |signal_timestamp   |signal_oem_timestamp|final_ts               |\n",
            "+-----------------------+-------------------+--------------------+-----------------------+\n",
            "|2025-02-28 14:51:35.544|2025-02-28 17:51:00|2021-03-23 10:50:21 |2025-02-28 14:51:35.544|\n",
            "|2025-02-01 12:08:57.477|2025-02-01 15:08:00|2000-01-01 14:18:11 |2025-02-01 12:08:57.477|\n",
            "|2025-02-17 10:41:14.86 |2025-02-17 13:41:00|2000-05-10 16:42:21 |2025-02-17 10:41:14.86 |\n",
            "|2025-02-17 13:53:19.69 |2025-02-17 16:53:00|2021-03-23 13:02:54 |2025-02-17 13:53:19.69 |\n",
            "|2025-02-11 12:50:41.529|2025-02-11 15:50:00|2000-01-01 02:04:24 |2025-02-11 12:50:41.529|\n",
            "|2025-02-05 05:23:33.944|2025-02-05 08:23:00|2021-03-23 10:53:47 |2025-02-05 05:23:33.944|\n",
            "|2025-02-27 10:28:32.555|2025-02-27 13:28:00|2000-01-02 09:33:16 |2025-02-27 10:28:32.555|\n",
            "|2025-02-14 08:18:29.394|2025-02-14 11:18:00|2000-01-01 14:20:31 |2025-02-14 08:18:29.394|\n",
            "+-----------------------+-------------------+--------------------+-----------------------+\n",
            "\n"
          ]
        }
      ]
    },
    {
      "cell_type": "code",
      "source": [],
      "metadata": {
        "id": "WKLvv9U77AOM"
      },
      "execution_count": 25,
      "outputs": []
    }
  ]
}